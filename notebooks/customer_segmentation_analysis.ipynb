{
 "cells": [
  {
   "cell_type": "markdown",
   "metadata": {},
   "source": [
    "# Customer Segmentation Analysis"
   ]
  },
  {
   "cell_type": "markdown",
   "metadata": {},
   "source": [
    "This notebook analyzes the results of the customer segmentation study. We will load the labeled RFM features and visualize the customer segments to gain insights into the different customer groups."
   ]
  },
  {
   "cell_type": "code",
   "execution_count": null,
   "metadata": {},
   "outputs": [],
   "source": [
    "import pandas as pd\n",
    "import plotly.express as px\n",
    "from pathlib import Path\n",
    "\n",
    "from proj_data_mining_northwind import config"
   ]
  },
  {
   "cell_type": "code",
   "execution_count": null,
   "metadata": {},
   "outputs": [],
   "source": [
    "# Load the labeled features\n",
    "labeled_features_path = config.PROCESSED_DATA_DIR / \"labeled_features.parquet\"\n",
    "labeled_features = pd.read_parquet(labeled_features_path)\n",
    "labeled_features.head()"
   ]
  },
  {
   "cell_type": "markdown",
   "metadata": {},
   "source": [
    "## K-Means Clustering Visualization"
   ]
  },
  {
   "cell_type": "code",
   "execution_count": null,
   "metadata": {},
   "outputs": [],
   "source": [
    "fig = px.scatter_3d(\n",
    "    labeled_features,\n",
    "    x=\"recency\",\n",
    "    y=\"frequency\",\n",
    "    z=\"monetary\",\n",
    "    color=\"kmeans_cluster\",\n",
    "    title=\"K-Means Customer Segments\",\n",
    "    labels={\"recency\": \"Recency\", \"frequency\": \"Frequency\", \"monetary\": \"Monetary Value\"},\n",
    ")\n",
    "fig.show()"
   ]
  },
  {
   "cell_type": "markdown",
   "metadata": {},
   "source": [
    "## Hierarchical Clustering Visualization"
   ]
  },
  {
   "cell_type": "code",
   "execution_count": null,
   "metadata": {},
   "outputs": [],
   "source": [
    "fig = px.scatter_3d(\n",
    "    labeled_features,\n",
    "    x=\"recency\",\n",
    "    y=\"frequency\",\n",
    "    z=\"monetary\",\n",
    "    color=\"agg_cluster\",\n",
    "    title=\"Hierarchical Customer Segments\",\n",
    "    labels={\"recency\": \"Recency\", \"frequency\": \"Frequency\", \"monetary\": \"Monetary Value\"},\n",
    ")\n",
    "fig.show()"
   ]
  },
  {
   "cell_type": "markdown",
   "metadata": {},
   "source": [
    "## DBSCAN Clustering Visualization"
   ]
  },
  {
   "cell_type": "code",
   "execution_count": null,
   "metadata": {},
   "outputs": [],
   "source": [
    "fig = px.scatter_3d(\n",
    "    labeled_features,\n",
    "    x=\"recency\",\n",
    "    y=\"frequency\",\n",
    "    z=\"monetary\",\n",
    "    color=\"dbscan_cluster\",\n",
    "    title=\"DBSCAN Customer Segments\",\n",
    "    labels={\"recency\": \"Recency\", \"frequency\": \"Frequency\", \"monetary\": \"Monetary Value\"},\n",
    ")\n",
    "fig.show()"
   ]
  }
 ],
 "metadata": {
  "kernelspec": {
   "display_name": "Python 3",
   "language": "python",
   "name": "python3"
  },
  "language_info": {
   "codemirror_mode": {
    "name": "ipython",
    "version": 3
   },
   "file_extension": ".py",
   "mimetype": "text/x-python",
   "name": "python",
   "nbconvert_exporter": "python",
   "pygments_lexer": "ipython3",
   "version": "3.10.0"
  }
 },
 "nbformat": 4,
 "nbformat_minor": 4
}